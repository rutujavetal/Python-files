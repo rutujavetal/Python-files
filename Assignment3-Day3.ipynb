{
 "cells": [
  {
   "cell_type": "code",
   "execution_count": null,
   "metadata": {},
   "outputs": [],
   "source": [
    "# Assignment -1 Students grades are assigned according to the marks secured"
   ]
  },
  {
   "cell_type": "code",
   "execution_count": 12,
   "metadata": {},
   "outputs": [
    {
     "name": "stdout",
     "output_type": "stream",
     "text": [
      "77\n",
      "C\n"
     ]
    }
   ],
   "source": [
    "x = input()\n",
    "marks = float(x)\n",
    "if marks >= 90:\n",
    "  grade = 'A'\n",
    "elif marks >= 80:\n",
    "  grade = 'B'\n",
    "elif marks >= 70:\n",
    "  grade = 'C'\n",
    "elif marks >= 60:\n",
    "  grade = 'D'\n",
    "elif marks >= 40:\n",
    "  grade = 'E'\n",
    "else:\n",
    "  grade = 'F'\n",
    "print(grade)"
   ]
  },
  {
   "cell_type": "code",
   "execution_count": 17,
   "metadata": {},
   "outputs": [
    {
     "name": "stdout",
     "output_type": "stream",
     "text": [
      "11\n",
      "Enter the runs between 1 and 25089\n",
      "89\n",
      "u must not watch cricket\n"
     ]
    }
   ],
   "source": [
    "# Assignment -2 cricket match score guessing\n",
    "\n",
    "\n",
    "import random\n",
    "number=random.randint(1,250)\n",
    "print(number)\n",
    "score=int(input(\"Enter the runs between 1 and 250\"))\n",
    "if (score < 1 or score > 250):\n",
    "    print(\"Reduce your expections for 20-20 match\")\n",
    "else:\n",
    "    print(score)\n",
    "    if(abs(score-number)<10):\n",
    "        print(\"yor are a true Indian fan  \")\n",
    "    else:\n",
    "        print(\"u must not watch cricket\")"
   ]
  },
  {
   "cell_type": "code",
   "execution_count": null,
   "metadata": {},
   "outputs": [],
   "source": []
  },
  {
   "cell_type": "code",
   "execution_count": null,
   "metadata": {},
   "outputs": [],
   "source": []
  },
  {
   "cell_type": "code",
   "execution_count": null,
   "metadata": {},
   "outputs": [],
   "source": []
  }
 ],
 "metadata": {
  "kernelspec": {
   "display_name": "Python 3",
   "language": "python",
   "name": "python3"
  },
  "language_info": {
   "codemirror_mode": {
    "name": "ipython",
    "version": 3
   },
   "file_extension": ".py",
   "mimetype": "text/x-python",
   "name": "python",
   "nbconvert_exporter": "python",
   "pygments_lexer": "ipython3",
   "version": "3.7.3"
  }
 },
 "nbformat": 4,
 "nbformat_minor": 2
}
