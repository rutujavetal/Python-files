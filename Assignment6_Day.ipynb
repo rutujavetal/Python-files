{
 "cells": [
  {
   "cell_type": "code",
   "execution_count": 12,
   "metadata": {},
   "outputs": [
    {
     "name": "stdout",
     "output_type": "stream",
     "text": [
      "B O D P A C T\n",
      "6\n"
     ]
    }
   ],
   "source": [
    "# PRINTING OF COUNT OF HOLES IN THE CHARACTERS  \n",
    "\n",
    "lis=[]\n",
    "hole = 0\n",
    "li=input()\n",
    "\n",
    "for item in li:\n",
    "    if(item in s):\n",
    "        if(item=='B'):\n",
    "             hole=hole+2\n",
    "\n",
    "        else:\n",
    "             hole=hole+1\n",
    "\n",
    "print(hole)"
   ]
  },
  {
   "cell_type": "code",
   "execution_count": 14,
   "metadata": {},
   "outputs": [
    {
     "name": "stdout",
     "output_type": "stream",
     "text": [
      "<map object at 0x0000024BEA2B18D0>\n",
      "{16, 1, 4, 9}\n"
     ]
    }
   ],
   "source": [
    "# MAP FUNCTION\n",
    "def calculateSquare(n):\n",
    "    return n*n\n",
    "\n",
    "numbers = (1, 2, 3, 4)\n",
    "result = map(calculateSquare, numbers)\n",
    "print(result)\n",
    "\n",
    "numbersSquare = set(result)\n",
    "print(numbersSquare)"
   ]
  },
  {
   "cell_type": "code",
   "execution_count": 15,
   "metadata": {},
   "outputs": [
    {
     "name": "stdout",
     "output_type": "stream",
     "text": [
      "<map object at 0x0000024BEA2B1B38>\n",
      "{16, 1, 4, 9}\n"
     ]
    }
   ],
   "source": [
    "# lAMBDA FUNCTION\n",
    "\n",
    "numbers = (1, 2, 3, 4)\n",
    "result = map(lambda x: x*x, numbers)\n",
    "print(result)\n",
    "\n",
    "numbersSquare = set(result)\n",
    "print(numbersSquare)"
   ]
  },
  {
   "cell_type": "code",
   "execution_count": 16,
   "metadata": {},
   "outputs": [
    {
     "name": "stdout",
     "output_type": "stream",
     "text": [
      "[9, 11, 13]\n"
     ]
    }
   ],
   "source": [
    "# Addition of nos of two lists using lambda function\n",
    "\n",
    "num1 = [4, 5, 6]\n",
    "num2 = [5, 6, 7]\n",
    "\n",
    "result = map(lambda n1, n2: n1+n2, num1, num2)\n",
    "print(list(result))"
   ]
  },
  {
   "cell_type": "code",
   "execution_count": null,
   "metadata": {},
   "outputs": [],
   "source": []
  }
 ],
 "metadata": {
  "kernelspec": {
   "display_name": "Python 3",
   "language": "python",
   "name": "python3"
  },
  "language_info": {
   "codemirror_mode": {
    "name": "ipython",
    "version": 3
   },
   "file_extension": ".py",
   "mimetype": "text/x-python",
   "name": "python",
   "nbconvert_exporter": "python",
   "pygments_lexer": "ipython3",
   "version": "3.7.3"
  }
 },
 "nbformat": 4,
 "nbformat_minor": 2
}
