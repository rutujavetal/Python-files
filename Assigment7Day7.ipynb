{
 "cells": [
  {
   "cell_type": "code",
   "execution_count": 1,
   "metadata": {},
   "outputs": [
    {
     "name": "stdout",
     "output_type": "stream",
     "text": [
      "[3, 6, 10, 8]\n"
     ]
    }
   ],
   "source": [
    "# MAP\n",
    "# map(function , iterables)\n",
    "def sqr(a,b):\n",
    "    return a+b\n",
    "print(list(map(sqr, [1,3,6,3] , [2,3,4,5])))"
   ]
  },
  {
   "cell_type": "code",
   "execution_count": 16,
   "metadata": {},
   "outputs": [
    {
     "name": "stdout",
     "output_type": "stream",
     "text": [
      "<map object at 0x00000181D1D03BA8>\n",
      "(4, 16, 9, 25)\n",
      "[]\n"
     ]
    }
   ],
   "source": [
    "def square(a):\n",
    "    return a*a\n",
    "x =(map(square,[2,4,3,5]))\n",
    "print(x)\n",
    "print(tuple(x))\n",
    "print(list(x))\n"
   ]
  },
  {
   "cell_type": "code",
   "execution_count": 1,
   "metadata": {},
   "outputs": [
    {
     "data": {
      "text/plain": [
       "49"
      ]
     },
     "execution_count": 1,
     "metadata": {},
     "output_type": "execute_result"
    }
   ],
   "source": [
    "# LAMBDA\n",
    "\n",
    "y = lambda a:a*a\n",
    "y(7)"
   ]
  },
  {
   "cell_type": "code",
   "execution_count": 2,
   "metadata": {},
   "outputs": [
    {
     "name": "stdout",
     "output_type": "stream",
     "text": [
      "<function xyz.<locals>.<lambda> at 0x0000022C610F0488>\n",
      "3\n"
     ]
    }
   ],
   "source": [
    "def xyz(a):\n",
    "    return lambda b: a-b\n",
    "d = xyz(8)\n",
    "print(d)\n",
    "print(d(5))"
   ]
  },
  {
   "cell_type": "code",
   "execution_count": 3,
   "metadata": {},
   "outputs": [
    {
     "data": {
      "text/plain": [
       "34"
      ]
     },
     "execution_count": 3,
     "metadata": {},
     "output_type": "execute_result"
    }
   ],
   "source": [
    "r = lambda x,y: (x*y)+6\n",
    "r(4,7)"
   ]
  },
  {
   "cell_type": "code",
   "execution_count": 5,
   "metadata": {},
   "outputs": [
    {
     "data": {
      "text/plain": [
       "[8, 10, 11, 6, 13]"
      ]
     },
     "execution_count": 5,
     "metadata": {},
     "output_type": "execute_result"
    }
   ],
   "source": [
    "l = [3,5,6,1,8]\n",
    "list(map(lambda u: u+5 ,l))\n"
   ]
  },
  {
   "cell_type": "code",
   "execution_count": 8,
   "metadata": {},
   "outputs": [
    {
     "name": "stdout",
     "output_type": "stream",
     "text": [
      "<filter object at 0x0000022C61198FD0>\n",
      "<class 'filter'>\n",
      "[3, 4, 5]\n"
     ]
    }
   ],
   "source": [
    "# FILTER ( function , iterables)\n",
    "\n",
    "\n",
    "def sqr(a):\n",
    "    if a>=3:\n",
    "        return a\n",
    "y= filter (sqr  , [2,3,4,5])\n",
    "print(y)\n",
    "print(type(y))\n",
    "print(list(y))\n",
    "\n"
   ]
  },
  {
   "cell_type": "code",
   "execution_count": 9,
   "metadata": {},
   "outputs": [
    {
     "name": "stdout",
     "output_type": "stream",
     "text": [
      "[3, 4, 5]\n"
     ]
    }
   ],
   "source": [
    "# FILTER USING LAMBDA\n",
    "\n",
    "l = [1,2,3,4,5]\n",
    "sqr = filter(lambda x:x>=3 , l)\n",
    "print(list(sqr))"
   ]
  },
  {
   "cell_type": "code",
   "execution_count": 10,
   "metadata": {},
   "outputs": [
    {
     "name": "stdout",
     "output_type": "stream",
     "text": [
      "[3, 4, 5]\n"
     ]
    }
   ],
   "source": [
    "# FILTER +LAMBDA+LIST\n",
    "\n",
    "l = [1,2,3,4,5]\n",
    "print(list(filter(lambda x:x>=3 , l)))"
   ]
  },
  {
   "cell_type": "code",
   "execution_count": 16,
   "metadata": {},
   "outputs": [
    {
     "name": "stdout",
     "output_type": "stream",
     "text": [
      "15\n"
     ]
    }
   ],
   "source": [
    "# REDUCE(FUNCTION , ITERABLES)\n",
    "\n",
    "import functools\n",
    "from functools import reduce\n",
    "def sqr(a,b):\n",
    "    return a+b\n",
    "x = reduce (sqr ,[1,2,3,4,5])\n",
    "print(x)\n"
   ]
  },
  {
   "cell_type": "code",
   "execution_count": 17,
   "metadata": {},
   "outputs": [
    {
     "data": {
      "text/plain": [
       "21"
      ]
     },
     "execution_count": 17,
     "metadata": {},
     "output_type": "execute_result"
    }
   ],
   "source": [
    "# reduce with lambda()\n",
    "\n",
    "reduce(lambda a,b: a+b , [1,2,3,4,5,6])"
   ]
  },
  {
   "cell_type": "code",
   "execution_count": 22,
   "metadata": {},
   "outputs": [
    {
     "name": "stdout",
     "output_type": "stream",
     "text": [
      "<map object at 0x0000022C61135550>\n",
      "[6, 8, 10, 12]\n"
     ]
    }
   ],
   "source": [
    "# filter within map\n",
    "\n",
    "x = map(lambda x: x+x, filter(lambda x: x>=3 , [1,2,3,4,5,6]))\n",
    "print(x)\n",
    "print(list(x))"
   ]
  },
  {
   "cell_type": "code",
   "execution_count": 25,
   "metadata": {},
   "outputs": [
    {
     "name": "stdout",
     "output_type": "stream",
     "text": [
      "<filter object at 0x0000022C61135D68>\n",
      "[4, 6, 8, 10, 12]\n"
     ]
    }
   ],
   "source": [
    "# MAP WITHIN FILTER\n",
    "\n",
    "x = filter(lambda x: x>=3, map(lambda x: x+x , [1,2,3,4,5,6]))\n",
    "print(x)\n",
    "print(list(x))"
   ]
  },
  {
   "cell_type": "code",
   "execution_count": 33,
   "metadata": {},
   "outputs": [
    {
     "name": "stdout",
     "output_type": "stream",
     "text": [
      "28\n"
     ]
    }
   ],
   "source": [
    "# MAP AND FILTER WITHIN REDUCE \n",
    "\n",
    "x = reduce(lambda x,y: x+y, map(lambda x : x+x , filter(lambda x: x>=2 , (1,2,3,4,5)))) \n",
    "print(x)"
   ]
  },
  {
   "cell_type": "code",
   "execution_count": 36,
   "metadata": {},
   "outputs": [
    {
     "name": "stdout",
     "output_type": "stream",
     "text": [
      "5\n"
     ]
    }
   ],
   "source": [
    "# input 68 = 6+8 =14\n",
    "       # 1+4 =5 \n",
    "\n",
    "\n",
    "def add_digits(num):\n",
    "        return (num - 1) % 9 + 1 if num > 0 else 0\n",
    "\n",
    "print(add_digits(68))\n"
   ]
  },
  {
   "cell_type": "code",
   "execution_count": null,
   "metadata": {},
   "outputs": [],
   "source": []
  }
 ],
 "metadata": {
  "kernelspec": {
   "display_name": "Python 3",
   "language": "python",
   "name": "python3"
  },
  "language_info": {
   "codemirror_mode": {
    "name": "ipython",
    "version": 3
   },
   "file_extension": ".py",
   "mimetype": "text/x-python",
   "name": "python",
   "nbconvert_exporter": "python",
   "pygments_lexer": "ipython3",
   "version": "3.7.3"
  }
 },
 "nbformat": 4,
 "nbformat_minor": 2
}
