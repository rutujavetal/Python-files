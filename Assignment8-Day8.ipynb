{
 "cells": [
  {
   "cell_type": "code",
   "execution_count": 23,
   "metadata": {},
   "outputs": [
    {
     "name": "stdout",
     "output_type": "stream",
     "text": [
      "Yes\n",
      "\n"
     ]
    }
   ],
   "source": [
    "def BinaryNo(str): \n",
    "    zero = 0\n",
    "    one = 0\n",
    "  \n",
    "    for i in range(0, len(str)): \n",
    "        ch = str[i]; \n",
    "        if (ch == '0' ):\n",
    "            zero = zero + 1\n",
    "        else: \n",
    "            one = one + 1\n",
    "  \n",
    "\n",
    "    return (zero == 1 or one == 1); \n",
    "if(BinaryNo(\"101\")): \n",
    "            print(\"Yes\\n\") \n",
    "else: \n",
    "        print(\"No\\n\") \n",
    "  "
   ]
  },
  {
   "cell_type": "code",
   "execution_count": null,
   "metadata": {},
   "outputs": [],
   "source": []
  },
  {
   "cell_type": "code",
   "execution_count": null,
   "metadata": {},
   "outputs": [],
   "source": []
  }
 ],
 "metadata": {
  "kernelspec": {
   "display_name": "Python 3",
   "language": "python",
   "name": "python3"
  }
 },
 "nbformat": 4,
 "nbformat_minor": 2
}
